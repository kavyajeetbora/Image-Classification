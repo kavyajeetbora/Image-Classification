{
  "nbformat": 4,
  "nbformat_minor": 0,
  "metadata": {
    "colab": {
      "name": "CIFAR10.ipynb",
      "provenance": [],
      "collapsed_sections": [],
      "include_colab_link": true
    },
    "kernelspec": {
      "name": "python3",
      "display_name": "Python 3"
    },
    "accelerator": "GPU",
    "widgets": {
      "application/vnd.jupyter.widget-state+json": {
        "3e8966f94ced4e0aa4902e47385f4fdd": {
          "model_module": "@jupyter-widgets/controls",
          "model_name": "HBoxModel",
          "state": {
            "_view_name": "HBoxView",
            "_dom_classes": [],
            "_model_name": "HBoxModel",
            "_view_module": "@jupyter-widgets/controls",
            "_model_module_version": "1.5.0",
            "_view_count": null,
            "_view_module_version": "1.5.0",
            "box_style": "",
            "layout": "IPY_MODEL_61cb7342f3124cb594f2562c84a9aa26",
            "_model_module": "@jupyter-widgets/controls",
            "children": [
              "IPY_MODEL_5df7b4d040cf44729ccd5b01e414eb0b",
              "IPY_MODEL_166da5ac7abe4358973a4b64612f5788"
            ]
          }
        },
        "61cb7342f3124cb594f2562c84a9aa26": {
          "model_module": "@jupyter-widgets/base",
          "model_name": "LayoutModel",
          "state": {
            "_view_name": "LayoutView",
            "grid_template_rows": null,
            "right": null,
            "justify_content": null,
            "_view_module": "@jupyter-widgets/base",
            "overflow": null,
            "_model_module_version": "1.2.0",
            "_view_count": null,
            "flex_flow": null,
            "width": null,
            "min_width": null,
            "border": null,
            "align_items": null,
            "bottom": null,
            "_model_module": "@jupyter-widgets/base",
            "top": null,
            "grid_column": null,
            "overflow_y": null,
            "overflow_x": null,
            "grid_auto_flow": null,
            "grid_area": null,
            "grid_template_columns": null,
            "flex": null,
            "_model_name": "LayoutModel",
            "justify_items": null,
            "grid_row": null,
            "max_height": null,
            "align_content": null,
            "visibility": null,
            "align_self": null,
            "height": null,
            "min_height": null,
            "padding": null,
            "grid_auto_rows": null,
            "grid_gap": null,
            "max_width": null,
            "order": null,
            "_view_module_version": "1.2.0",
            "grid_template_areas": null,
            "object_position": null,
            "object_fit": null,
            "grid_auto_columns": null,
            "margin": null,
            "display": null,
            "left": null
          }
        },
        "5df7b4d040cf44729ccd5b01e414eb0b": {
          "model_module": "@jupyter-widgets/controls",
          "model_name": "IntProgressModel",
          "state": {
            "_view_name": "ProgressView",
            "style": "IPY_MODEL_23bbdf727221491ba4836199619a3aba",
            "_dom_classes": [],
            "description": "",
            "_model_name": "IntProgressModel",
            "bar_style": "success",
            "max": 100,
            "_view_module": "@jupyter-widgets/controls",
            "_model_module_version": "1.5.0",
            "value": 100,
            "_view_count": null,
            "_view_module_version": "1.5.0",
            "orientation": "horizontal",
            "min": 0,
            "description_tooltip": null,
            "_model_module": "@jupyter-widgets/controls",
            "layout": "IPY_MODEL_a9c07f1c1ca544bd8d9e292e35637907"
          }
        },
        "166da5ac7abe4358973a4b64612f5788": {
          "model_module": "@jupyter-widgets/controls",
          "model_name": "HTMLModel",
          "state": {
            "_view_name": "HTMLView",
            "style": "IPY_MODEL_6d389bd8cf17461198405870ada7bdf1",
            "_dom_classes": [],
            "description": "",
            "_model_name": "HTMLModel",
            "placeholder": "​",
            "_view_module": "@jupyter-widgets/controls",
            "_model_module_version": "1.5.0",
            "value": "100% 100/100 [23:41&lt;00:00, 14.22s/it]",
            "_view_count": null,
            "_view_module_version": "1.5.0",
            "description_tooltip": null,
            "_model_module": "@jupyter-widgets/controls",
            "layout": "IPY_MODEL_abc574cb92ab45d1b2159ffba7fc4530"
          }
        },
        "23bbdf727221491ba4836199619a3aba": {
          "model_module": "@jupyter-widgets/controls",
          "model_name": "ProgressStyleModel",
          "state": {
            "_view_name": "StyleView",
            "_model_name": "ProgressStyleModel",
            "description_width": "",
            "_view_module": "@jupyter-widgets/base",
            "_model_module_version": "1.5.0",
            "_view_count": null,
            "_view_module_version": "1.2.0",
            "bar_color": null,
            "_model_module": "@jupyter-widgets/controls"
          }
        },
        "a9c07f1c1ca544bd8d9e292e35637907": {
          "model_module": "@jupyter-widgets/base",
          "model_name": "LayoutModel",
          "state": {
            "_view_name": "LayoutView",
            "grid_template_rows": null,
            "right": null,
            "justify_content": null,
            "_view_module": "@jupyter-widgets/base",
            "overflow": null,
            "_model_module_version": "1.2.0",
            "_view_count": null,
            "flex_flow": null,
            "width": null,
            "min_width": null,
            "border": null,
            "align_items": null,
            "bottom": null,
            "_model_module": "@jupyter-widgets/base",
            "top": null,
            "grid_column": null,
            "overflow_y": null,
            "overflow_x": null,
            "grid_auto_flow": null,
            "grid_area": null,
            "grid_template_columns": null,
            "flex": null,
            "_model_name": "LayoutModel",
            "justify_items": null,
            "grid_row": null,
            "max_height": null,
            "align_content": null,
            "visibility": null,
            "align_self": null,
            "height": null,
            "min_height": null,
            "padding": null,
            "grid_auto_rows": null,
            "grid_gap": null,
            "max_width": null,
            "order": null,
            "_view_module_version": "1.2.0",
            "grid_template_areas": null,
            "object_position": null,
            "object_fit": null,
            "grid_auto_columns": null,
            "margin": null,
            "display": null,
            "left": null
          }
        },
        "6d389bd8cf17461198405870ada7bdf1": {
          "model_module": "@jupyter-widgets/controls",
          "model_name": "DescriptionStyleModel",
          "state": {
            "_view_name": "StyleView",
            "_model_name": "DescriptionStyleModel",
            "description_width": "",
            "_view_module": "@jupyter-widgets/base",
            "_model_module_version": "1.5.0",
            "_view_count": null,
            "_view_module_version": "1.2.0",
            "_model_module": "@jupyter-widgets/controls"
          }
        },
        "abc574cb92ab45d1b2159ffba7fc4530": {
          "model_module": "@jupyter-widgets/base",
          "model_name": "LayoutModel",
          "state": {
            "_view_name": "LayoutView",
            "grid_template_rows": null,
            "right": null,
            "justify_content": null,
            "_view_module": "@jupyter-widgets/base",
            "overflow": null,
            "_model_module_version": "1.2.0",
            "_view_count": null,
            "flex_flow": null,
            "width": null,
            "min_width": null,
            "border": null,
            "align_items": null,
            "bottom": null,
            "_model_module": "@jupyter-widgets/base",
            "top": null,
            "grid_column": null,
            "overflow_y": null,
            "overflow_x": null,
            "grid_auto_flow": null,
            "grid_area": null,
            "grid_template_columns": null,
            "flex": null,
            "_model_name": "LayoutModel",
            "justify_items": null,
            "grid_row": null,
            "max_height": null,
            "align_content": null,
            "visibility": null,
            "align_self": null,
            "height": null,
            "min_height": null,
            "padding": null,
            "grid_auto_rows": null,
            "grid_gap": null,
            "max_width": null,
            "order": null,
            "_view_module_version": "1.2.0",
            "grid_template_areas": null,
            "object_position": null,
            "object_fit": null,
            "grid_auto_columns": null,
            "margin": null,
            "display": null,
            "left": null
          }
        }
      }
    }
  },
  "cells": [
    {
      "cell_type": "markdown",
      "metadata": {
        "id": "view-in-github",
        "colab_type": "text"
      },
      "source": [
        "<a href=\"https://colab.research.google.com/github/kavyajeetbora/Image-Classification/blob/master/CIFAR10/CIFAR10.ipynb\" target=\"_parent\"><img src=\"https://colab.research.google.com/assets/colab-badge.svg\" alt=\"Open In Colab\"/></a>"
      ]
    },
    {
      "cell_type": "markdown",
      "metadata": {
        "id": "9JIQhqkLBiFY",
        "colab_type": "text"
      },
      "source": [
        "## 1. Outline \n",
        "\n",
        "1. Load the dataset and visualise\n",
        "2. add batchnorm layers\n",
        "3. Comparison with and without batch normalization layers\n",
        "4. Add Dropout layer\n",
        "5. Comparison with and without dropout layers"
      ]
    },
    {
      "cell_type": "code",
      "metadata": {
        "id": "N77mpygPBelP",
        "colab_type": "code",
        "outputId": "3bc187d2-3fe2-4579-bccd-4b5f4f1e3e35",
        "colab": {
          "base_uri": "https://localhost:8080/",
          "height": 34
        }
      },
      "source": [
        "import torch\n",
        "import matplotlib.pyplot as plt\n",
        "import numpy as np\n",
        "\n",
        "import torchvision\n",
        "import torchvision.transforms as transforms\n",
        "import torch.nn.functional as F\n",
        "\n",
        "import torch.nn as nn\n",
        "import torch.optim as optim\n",
        "import seaborn as sns\n",
        "from torchvision import transforms\n",
        "import torchvision.models as models\n",
        "\n",
        "from tqdm import tqdm_notebook\n",
        "import time\n",
        "\n",
        "device = torch.device(\"cuda:0\" if torch.cuda.is_available() else \"cpu\")\n",
        "device                "
      ],
      "execution_count": 37,
      "outputs": [
        {
          "output_type": "execute_result",
          "data": {
            "text/plain": [
              "device(type='cuda', index=0)"
            ]
          },
          "metadata": {
            "tags": []
          },
          "execution_count": 37
        }
      ]
    },
    {
      "cell_type": "markdown",
      "metadata": {
        "id": "c3KfFN3tCEg0",
        "colab_type": "text"
      },
      "source": [
        "## 2. Dataset and visualization"
      ]
    },
    {
      "cell_type": "code",
      "metadata": {
        "id": "luRvqWmXGMVS",
        "colab_type": "code",
        "colab": {}
      },
      "source": [
        "transform = transforms.Compose([\n",
        "                                transforms.RandomVerticalFlip(),\n",
        "                                transforms.RandomHorizontalFlip(),\n",
        "                                transforms.ToTensor()\n",
        "                                \n",
        "])"
      ],
      "execution_count": 0,
      "outputs": []
    },
    {
      "cell_type": "code",
      "metadata": {
        "id": "om-TMLIKB_Gr",
        "colab_type": "code",
        "outputId": "7d86ea0e-bf82-4e48-baa8-a3ed290743ce",
        "colab": {
          "base_uri": "https://localhost:8080/",
          "height": 52
        }
      },
      "source": [
        "train_dataset = torchvision.datasets.CIFAR10(root='./data', train=True, download=True, transform = transform)\n",
        "validation_dataset = torchvision.datasets.CIFAR10(root='./data', train=False, download=True, transform = transforms.ToTensor())"
      ],
      "execution_count": 39,
      "outputs": [
        {
          "output_type": "stream",
          "text": [
            "Files already downloaded and verified\n",
            "Files already downloaded and verified\n"
          ],
          "name": "stdout"
        }
      ]
    },
    {
      "cell_type": "code",
      "metadata": {
        "id": "omAT8v5ZEa7k",
        "colab_type": "code",
        "colab": {}
      },
      "source": [
        "batch_size = 128\n",
        "train_loader = torch.utils.data.DataLoader(train_dataset, batch_size=batch_size, shuffle=True)\n",
        "validation_loader = torch.utils.data.DataLoader(validation_dataset, batch_size=batch_size, shuffle=False)"
      ],
      "execution_count": 0,
      "outputs": []
    },
    {
      "cell_type": "code",
      "metadata": {
        "id": "E0D75eHcWYyz",
        "colab_type": "code",
        "colab": {}
      },
      "source": [
        "datasets = {'train':train_dataset, 'validation': validation_dataset}\n",
        "dataloaders = {'train':train_loader, 'validation': validation_loader}"
      ],
      "execution_count": 0,
      "outputs": []
    },
    {
      "cell_type": "code",
      "metadata": {
        "id": "-BvhVKeGFyvk",
        "colab_type": "code",
        "outputId": "7823d8df-12b5-4ede-869d-1ad8a5bcaf94",
        "colab": {
          "base_uri": "https://localhost:8080/",
          "height": 34
        }
      },
      "source": [
        "sample_image, sample_label = train_dataset[0]\n",
        "print(sample_image.size(), sample_label)"
      ],
      "execution_count": 42,
      "outputs": [
        {
          "output_type": "stream",
          "text": [
            "torch.Size([3, 32, 32]) 6\n"
          ],
          "name": "stdout"
        }
      ]
    },
    {
      "cell_type": "code",
      "metadata": {
        "id": "QgOmSrnv6IOI",
        "colab_type": "code",
        "colab": {}
      },
      "source": [
        "classes = {0:'airplane',1:'automobile',2:'bird',3:'cat',4:'deer',5:'dog',6:'frog',7:'horse',8:'ship',9:'truck'}"
      ],
      "execution_count": 0,
      "outputs": []
    },
    {
      "cell_type": "code",
      "metadata": {
        "id": "ViU8NHOqCtfJ",
        "colab_type": "code",
        "outputId": "0df4d68b-a3ec-4d89-9883-49042ab0ab57",
        "colab": {
          "base_uri": "https://localhost:8080/",
          "height": 229
        }
      },
      "source": [
        "def show_batch_images(dataloader, no_images=4):\n",
        "  images,labels = iter(dataloader).next()\n",
        "  plt.figure(figsize=(15,10))\n",
        "  \n",
        "  for i, (img,label) in enumerate(zip(images[0:no_images],labels[0:no_images])):\n",
        "    img = np.transpose(img.numpy(), (1,2,0))\n",
        "    ax = plt.subplot(1,no_images,i+1)\n",
        "    ax.imshow(img, cmap='Greys_r')\n",
        "    ax.set_title(classes[label.item()])\n",
        "    ax.axis('off')\n",
        " \n",
        "  plt.show()\n",
        "  \n",
        "show_batch_images(train_loader)"
      ],
      "execution_count": 44,
      "outputs": [
        {
          "output_type": "display_data",
          "data": {
            "image/png": "[encoded data removed]",
            "text/plain": [
              "<Figure size 1080x720 with 4 Axes>"
            ]
          },
          "metadata": {
            "tags": []
          }
        }
      ]
    },
    {
      "cell_type": "code",
      "metadata": {
        "id": "-37_pzdHluHs",
        "colab_type": "code",
        "colab": {}
      },
      "source": [
        "def return_accuracy(data_loader,model):\n",
        "  correct = 0\n",
        "  total = 0\n",
        "  model.eval()\n",
        "  for images,labels in data_loader:\n",
        "    images,labels = images.to(device), labels.to(device)\n",
        "    total += len(images)\n",
        "    correct += torch.sum(torch.argmax(model(images),dim=1)==labels).item()\n",
        "  return correct/total*100"
      ],
      "execution_count": 0,
      "outputs": []
    },
    {
      "cell_type": "markdown",
      "metadata": {
        "id": "oUBDbdueHZgt",
        "colab_type": "text"
      },
      "source": [
        "## 3. Defining CNN model Architecture"
      ]
    },
    {
      "cell_type": "code",
      "metadata": {
        "id": "EBtu49P5xg01",
        "colab_type": "code",
        "outputId": "38d5d2b9-a548-467f-82af-91a463b4824d",
        "colab": {
          "base_uri": "https://localhost:8080/",
          "height": 34
        }
      },
      "source": [
        "images, labels = next(iter(train_loader))\n",
        "print(images.size())"
      ],
      "execution_count": 46,
      "outputs": [
        {
          "output_type": "stream",
          "text": [
            "torch.Size([128, 3, 32, 32])\n"
          ],
          "name": "stdout"
        }
      ]
    },
    {
      "cell_type": "code",
      "metadata": {
        "id": "JG5n81CgxXZG",
        "colab_type": "code",
        "colab": {}
      },
      "source": [
        "class SimpleConvNet(nn.Module):\n",
        "  def __init__(self):\n",
        "    super(SimpleConvNet,self).__init__()\n",
        "    self.c1 = self.convolution(filters=32, dropout=0.2)\n",
        "    self.c2 = self.convolution(input_channels= 32, filters=64, dropout=0.3)\n",
        "    self.c3 = self.convolution(input_channels=64, filters=128, dropout=0.4)\n",
        "    self.fc = nn.Sequential(\n",
        "        nn.Linear(128*4*4,10)\n",
        "    )\n",
        "\n",
        "  def forward(self, X):\n",
        "    c1 = self.c1(X)\n",
        "    c2 = self.c2(c1)\n",
        "    c3 = self.c3(c2)\n",
        "    c3 = c3.view(X.size()[0],-1)\n",
        "    fc1 = self.fc(c3)\n",
        "    return fc1\n",
        "\n",
        "  def convolution(self, input_channels=3, filters = 64, dropout=0.2):\n",
        "    conv = nn.Sequential(\n",
        "        nn.Conv2d(in_channels=input_channels, out_channels=filters, kernel_size=(3,3), padding=1),\n",
        "        nn.ReLU(),\n",
        "        nn.BatchNorm2d(filters),\n",
        "        nn.Conv2d(in_channels=filters,out_channels=filters,kernel_size=(3,3), padding=1),\n",
        "        nn.ReLU(),\n",
        "        nn.BatchNorm2d(filters),\n",
        "        nn.MaxPool2d(kernel_size=(2,2)),\n",
        "        nn.Dropout2d(dropout)\n",
        "    )\n",
        "    return conv"
      ],
      "execution_count": 0,
      "outputs": []
    },
    {
      "cell_type": "code",
      "metadata": {
        "id": "wopEn3bKTqyr",
        "colab_type": "code",
        "outputId": "79dd882a-abc8-4df0-86d8-ba35c6e3927a",
        "colab": {
          "base_uri": "https://localhost:8080/",
          "height": 625
        }
      },
      "source": [
        "net = SimpleConvNet()\n",
        "net"
      ],
      "execution_count": 48,
      "outputs": [
        {
          "output_type": "execute_result",
          "data": {
            "text/plain": [
              "SimpleConvNet(\n",
              "  (c1): Sequential(\n",
              "    (0): Conv2d(3, 32, kernel_size=(3, 3), stride=(1, 1), padding=(1, 1))\n",
              "    (1): ReLU()\n",
              "    (2): BatchNorm2d(32, eps=1e-05, momentum=0.1, affine=True, track_running_stats=True)\n",
              "    (3): Conv2d(32, 32, kernel_size=(3, 3), stride=(1, 1), padding=(1, 1))\n",
              "    (4): ReLU()\n",
              "    (5): BatchNorm2d(32, eps=1e-05, momentum=0.1, affine=True, track_running_stats=True)\n",
              "    (6): MaxPool2d(kernel_size=(2, 2), stride=(2, 2), padding=0, dilation=1, ceil_mode=False)\n",
              "    (7): Dropout2d(p=0.2, inplace=False)\n",
              "  )\n",
              "  (c2): Sequential(\n",
              "    (0): Conv2d(32, 64, kernel_size=(3, 3), stride=(1, 1), padding=(1, 1))\n",
              "    (1): ReLU()\n",
              "    (2): BatchNorm2d(64, eps=1e-05, momentum=0.1, affine=True, track_running_stats=True)\n",
              "    (3): Conv2d(64, 64, kernel_size=(3, 3), stride=(1, 1), padding=(1, 1))\n",
              "    (4): ReLU()\n",
              "    (5): BatchNorm2d(64, eps=1e-05, momentum=0.1, affine=True, track_running_stats=True)\n",
              "    (6): MaxPool2d(kernel_size=(2, 2), stride=(2, 2), padding=0, dilation=1, ceil_mode=False)\n",
              "    (7): Dropout2d(p=0.3, inplace=False)\n",
              "  )\n",
              "  (c3): Sequential(\n",
              "    (0): Conv2d(64, 128, kernel_size=(3, 3), stride=(1, 1), padding=(1, 1))\n",
              "    (1): ReLU()\n",
              "    (2): BatchNorm2d(128, eps=1e-05, momentum=0.1, affine=True, track_running_stats=True)\n",
              "    (3): Conv2d(128, 128, kernel_size=(3, 3), stride=(1, 1), padding=(1, 1))\n",
              "    (4): ReLU()\n",
              "    (5): BatchNorm2d(128, eps=1e-05, momentum=0.1, affine=True, track_running_stats=True)\n",
              "    (6): MaxPool2d(kernel_size=(2, 2), stride=(2, 2), padding=0, dilation=1, ceil_mode=False)\n",
              "    (7): Dropout2d(p=0.4, inplace=False)\n",
              "  )\n",
              "  (fc): Sequential(\n",
              "    (0): Linear(in_features=2048, out_features=10, bias=True)\n",
              "  )\n",
              ")"
            ]
          },
          "metadata": {
            "tags": []
          },
          "execution_count": 48
        }
      ]
    },
    {
      "cell_type": "markdown",
      "metadata": {
        "id": "IvpLayT0Vrq6",
        "colab_type": "text"
      },
      "source": [
        "### Training"
      ]
    },
    {
      "cell_type": "code",
      "metadata": {
        "id": "jU9Oqi5G0bcq",
        "colab_type": "code",
        "colab": {}
      },
      "source": [
        "def train(model, optimizer, loss_fn, epochs=10, device=device, scheduler=None):\n",
        "  start_time = time.time()\n",
        "  best_acc = 0\n",
        "  best_model_wts = model.state_dict()\n",
        "  \n",
        "  train_loss = []\n",
        "  val_loss = []\n",
        "  \n",
        "  train_acc = []\n",
        "  val_acc = []\n",
        "  \n",
        "  model = model.to(device)\n",
        "\n",
        "  for epoch in tqdm_notebook(range(epochs)):\n",
        "    print('Epoch {}/{}'.format(epoch,epochs))\n",
        "    print('-'*20)\n",
        "    \n",
        "    for phase in ['train', 'validation']:\n",
        "        \n",
        "      ## 1. setting up the training mode \n",
        "      if phase == 'train':\n",
        "        model.train(True)\n",
        "      else:\n",
        "        model.train(False)\n",
        "          \n",
        "      running_loss = 0.0\n",
        "      running_corrects = 0.0\n",
        "      running_batch = 0.0\n",
        "      \n",
        "      for data in dataloaders[phase]:\n",
        "        images,labels = data\n",
        "        images,labels = images.to(device), labels.to(device)\n",
        "        \n",
        "        ## zero the parameter gradients\n",
        "        optimizer.zero_grad()\n",
        "\n",
        "        # forward pass\n",
        "        output = model(images)\n",
        "        loss = loss_fn(output,labels)\n",
        "        preds = torch.argmax(output,dim=1)\n",
        "\n",
        "        if phase == 'train':\n",
        "          loss.backward()\n",
        "          optimizer.step()\n",
        "\n",
        "        # statistics\n",
        "        running_loss += loss.item()\n",
        "        running_corrects += torch.sum(preds==labels)\n",
        "        running_batch += 1\n",
        "    \n",
        "      epoch_loss = running_loss/running_batch\n",
        "      epoch_accuracy = running_corrects/len(datasets[phase])\n",
        "          \n",
        "      # store the statistics for plotting and step lr scheduler\n",
        "      if phase == 'train':\n",
        "        train_loss.append(epoch_loss)\n",
        "        train_acc.append(epoch_accuracy)\n",
        "      else:\n",
        "        val_loss.append(epoch_loss)\n",
        "        val_acc.append(epoch_accuracy)\n",
        "        if scheduler is not None:\n",
        "          scheduler.step(epoch_accuracy)\n",
        "\n",
        "\n",
        "      print('{} Loss {:.4f} Acc: {:.4f}'.format(phase, epoch_loss, epoch_accuracy))\n",
        "          \n",
        "      ## save the best model\n",
        "      if phase == 'validation' and epoch_accuracy > best_acc:\n",
        "        best_acc = epoch_accuracy\n",
        "        best_model_wts = model.state_dict()\n",
        "\n",
        "  time_elapsed = time.time() - start_time    \n",
        "  print('Training complete in {:.0f}m {:.0f}s'.format(time_elapsed//60, time_elapsed % 60))\n",
        "  print('Best validation accuracy {:.4f}'.format(best_acc))\n",
        "  model.load_state_dict(best_model_wts)\n",
        "  \n",
        "  \n",
        "  ## plot the statistics\n",
        "  fig, (ax1,ax2) = plt.subplots(nrows=1,ncols=2, sharex=True)\n",
        "  \n",
        "  ax1.plot(train_loss)\n",
        "  ax1.plot(val_loss)\n",
        "  ax1.set_title('Cross Entropy loss')\n",
        "  ax1.set_xlabel('Epochs')\n",
        "  \n",
        "  ax2.plot(train_acc)\n",
        "  ax2.plot(val_acc)\n",
        "  ax2.set_title('Accuracy (%)')\n",
        "  ax2.set_xlabel('Epochs')\n",
        "  \n",
        "  return model"
      ],
      "execution_count": 0,
      "outputs": []
    },
    {
      "cell_type": "code",
      "metadata": {
        "id": "jFn8wGQMhGsi",
        "colab_type": "code",
        "outputId": "ba048dfb-d51e-47ec-a0cf-16bb0a29ef26",
        "colab": {
          "base_uri": "https://localhost:8080/",
          "height": 1000,
          "referenced_widgets": [
            "3e8966f94ced4e0aa4902e47385f4fdd",
            "61cb7342f3124cb594f2562c84a9aa26",
            "5df7b4d040cf44729ccd5b01e414eb0b",
            "166da5ac7abe4358973a4b64612f5788",
            "23bbdf727221491ba4836199619a3aba",
            "a9c07f1c1ca544bd8d9e292e35637907",
            "6d389bd8cf17461198405870ada7bdf1",
            "abc574cb92ab45d1b2159ffba7fc4530"
          ]
        }
      },
      "source": [
        "%%time\n",
        "model = SimpleConvNet()\n",
        "opt = optim.Adam(model.parameters())\n",
        "loss_fn = nn.CrossEntropyLoss()\n",
        "lr_scheduler = optim.lr_scheduler.ReduceLROnPlateau(opt,mode='max',patience=5,verbose=True,factor=0.1)\n",
        "trained_model = train(model,opt,loss_fn, epochs=100, scheduler=lr_scheduler)"
      ],
      "execution_count": 54,
      "outputs": [
        {
          "output_type": "display_data",
          "data": {
            "application/vnd.jupyter.widget-view+json": {
              "model_id": "3e8966f94ced4e0aa4902e47385f4fdd",
              "version_minor": 0,
              "version_major": 2
            },
            "text/plain": [
              "HBox(children=(IntProgress(value=0), HTML(value='')))"
            ]
          },
          "metadata": {
            "tags": []
          }
        },
        {
          "output_type": "stream",
          "text": [
            "Epoch 0/100\n",
            "--------------------\n",
            "train Loss 1.6929 Acc: 0.3925\n",
            "validation Loss 1.3563 Acc: 0.5053\n",
            "Epoch 1/100\n",
            "--------------------\n",
            "train Loss 1.3434 Acc: 0.5185\n",
            "validation Loss 1.2059 Acc: 0.5553\n",
            "Epoch 2/100\n",
            "--------------------\n",
            "train Loss 1.1807 Acc: 0.5800\n",
            "validation Loss 1.0041 Acc: 0.6418\n",
            "Epoch 3/100\n",
            "--------------------\n",
            "train Loss 1.0733 Acc: 0.6207\n",
            "validation Loss 0.9965 Acc: 0.6452\n",
            "Epoch 4/100\n",
            "--------------------\n",
            "train Loss 0.9898 Acc: 0.6495\n",
            "validation Loss 0.8808 Acc: 0.6910\n",
            "Epoch 5/100\n",
            "--------------------\n",
            "train Loss 0.9367 Acc: 0.6690\n",
            "validation Loss 0.8236 Acc: 0.7080\n",
            "Epoch 6/100\n",
            "--------------------\n",
            "train Loss 0.8980 Acc: 0.6827\n",
            "validation Loss 0.7612 Acc: 0.7320\n",
            "Epoch 7/100\n",
            "--------------------\n",
            "train Loss 0.8583 Acc: 0.6987\n",
            "validation Loss 0.7571 Acc: 0.7339\n",
            "Epoch 8/100\n",
            "--------------------\n",
            "train Loss 0.8288 Acc: 0.7074\n",
            "validation Loss 0.7602 Acc: 0.7325\n",
            "Epoch 9/100\n",
            "--------------------\n",
            "train Loss 0.8109 Acc: 0.7142\n",
            "validation Loss 0.6865 Acc: 0.7561\n",
            "Epoch 10/100\n",
            "--------------------\n",
            "train Loss 0.7834 Acc: 0.7219\n",
            "validation Loss 0.7064 Acc: 0.7491\n",
            "Epoch 11/100\n",
            "--------------------\n",
            "train Loss 0.7733 Acc: 0.7249\n",
            "validation Loss 0.6765 Acc: 0.7664\n",
            "Epoch 12/100\n",
            "--------------------\n",
            "train Loss 0.7564 Acc: 0.7348\n",
            "validation Loss 0.6690 Acc: 0.7675\n",
            "Epoch 13/100\n",
            "--------------------\n",
            "train Loss 0.7337 Acc: 0.7415\n",
            "validation Loss 0.6410 Acc: 0.7739\n",
            "Epoch 14/100\n",
            "--------------------\n",
            "train Loss 0.7247 Acc: 0.7462\n",
            "validation Loss 0.6476 Acc: 0.7729\n",
            "Epoch 15/100\n",
            "--------------------\n",
            "train Loss 0.7113 Acc: 0.7516\n",
            "validation Loss 0.6051 Acc: 0.7881\n",
            "Epoch 16/100\n",
            "--------------------\n",
            "train Loss 0.6944 Acc: 0.7581\n",
            "validation Loss 0.6538 Acc: 0.7696\n",
            "Epoch 17/100\n",
            "--------------------\n",
            "train Loss 0.6879 Acc: 0.7562\n",
            "validation Loss 0.6041 Acc: 0.7899\n",
            "Epoch 18/100\n",
            "--------------------\n",
            "train Loss 0.6780 Acc: 0.7635\n",
            "validation Loss 0.6156 Acc: 0.7877\n",
            "Epoch 19/100\n",
            "--------------------\n",
            "train Loss 0.6699 Acc: 0.7643\n",
            "validation Loss 0.5997 Acc: 0.7964\n",
            "Epoch 20/100\n",
            "--------------------\n",
            "train Loss 0.6575 Acc: 0.7703\n",
            "validation Loss 0.6094 Acc: 0.7887\n",
            "Epoch 21/100\n",
            "--------------------\n",
            "train Loss 0.6514 Acc: 0.7743\n",
            "validation Loss 0.5807 Acc: 0.7950\n",
            "Epoch 22/100\n",
            "--------------------\n",
            "train Loss 0.6398 Acc: 0.7735\n",
            "validation Loss 0.5590 Acc: 0.8062\n",
            "Epoch 23/100\n",
            "--------------------\n",
            "train Loss 0.6344 Acc: 0.7771\n",
            "validation Loss 0.5739 Acc: 0.8027\n",
            "Epoch 24/100\n",
            "--------------------\n",
            "train Loss 0.6268 Acc: 0.7801\n",
            "validation Loss 0.5708 Acc: 0.8029\n",
            "Epoch 25/100\n",
            "--------------------\n",
            "train Loss 0.6188 Acc: 0.7813\n",
            "validation Loss 0.5496 Acc: 0.8099\n",
            "Epoch 26/100\n",
            "--------------------\n",
            "train Loss 0.6102 Acc: 0.7847\n",
            "validation Loss 0.5595 Acc: 0.8053\n",
            "Epoch 27/100\n",
            "--------------------\n",
            "train Loss 0.6071 Acc: 0.7879\n",
            "validation Loss 0.5505 Acc: 0.8101\n",
            "Epoch 28/100\n",
            "--------------------\n",
            "train Loss 0.6056 Acc: 0.7881\n",
            "validation Loss 0.5499 Acc: 0.8108\n",
            "Epoch 29/100\n",
            "--------------------\n",
            "train Loss 0.5947 Acc: 0.7905\n",
            "validation Loss 0.5534 Acc: 0.8078\n",
            "Epoch 30/100\n",
            "--------------------\n",
            "train Loss 0.5881 Acc: 0.7939\n",
            "validation Loss 0.5547 Acc: 0.8099\n",
            "Epoch 31/100\n",
            "--------------------\n",
            "train Loss 0.5840 Acc: 0.7949\n",
            "validation Loss 0.5345 Acc: 0.8131\n",
            "Epoch 32/100\n",
            "--------------------\n",
            "train Loss 0.5819 Acc: 0.7961\n",
            "validation Loss 0.5384 Acc: 0.8130\n",
            "Epoch 33/100\n",
            "--------------------\n",
            "train Loss 0.5711 Acc: 0.8001\n",
            "validation Loss 0.5351 Acc: 0.8148\n",
            "Epoch 34/100\n",
            "--------------------\n",
            "train Loss 0.5744 Acc: 0.7992\n",
            "validation Loss 0.5370 Acc: 0.8137\n",
            "Epoch 35/100\n",
            "--------------------\n",
            "train Loss 0.5669 Acc: 0.7999\n",
            "validation Loss 0.5447 Acc: 0.8131\n",
            "Epoch 36/100\n",
            "--------------------\n",
            "train Loss 0.5649 Acc: 0.8030\n",
            "validation Loss 0.5263 Acc: 0.8226\n",
            "Epoch 37/100\n",
            "--------------------\n",
            "train Loss 0.5531 Acc: 0.8064\n",
            "validation Loss 0.5264 Acc: 0.8193\n",
            "Epoch 38/100\n",
            "--------------------\n",
            "train Loss 0.5544 Acc: 0.8054\n",
            "validation Loss 0.5104 Acc: 0.8255\n",
            "Epoch 39/100\n",
            "--------------------\n",
            "train Loss 0.5532 Acc: 0.8056\n",
            "validation Loss 0.5241 Acc: 0.8190\n",
            "Epoch 40/100\n",
            "--------------------\n",
            "train Loss 0.5469 Acc: 0.8089\n",
            "validation Loss 0.5229 Acc: 0.8169\n",
            "Epoch 41/100\n",
            "--------------------\n",
            "train Loss 0.5455 Acc: 0.8088\n",
            "validation Loss 0.5078 Acc: 0.8266\n",
            "Epoch 42/100\n",
            "--------------------\n",
            "train Loss 0.5389 Acc: 0.8105\n",
            "validation Loss 0.5043 Acc: 0.8241\n",
            "Epoch 43/100\n",
            "--------------------\n",
            "train Loss 0.5365 Acc: 0.8142\n",
            "validation Loss 0.5084 Acc: 0.8279\n",
            "Epoch 44/100\n",
            "--------------------\n",
            "train Loss 0.5401 Acc: 0.8088\n",
            "validation Loss 0.5137 Acc: 0.8273\n",
            "Epoch 45/100\n",
            "--------------------\n",
            "train Loss 0.5303 Acc: 0.8143\n",
            "validation Loss 0.4980 Acc: 0.8274\n",
            "Epoch 46/100\n",
            "--------------------\n",
            "train Loss 0.5307 Acc: 0.8147\n",
            "validation Loss 0.5215 Acc: 0.8228\n",
            "Epoch 47/100\n",
            "--------------------\n",
            "train Loss 0.5287 Acc: 0.8152\n",
            "validation Loss 0.5104 Acc: 0.8246\n",
            "Epoch 48/100\n",
            "--------------------\n",
            "train Loss 0.5229 Acc: 0.8160\n",
            "validation Loss 0.5127 Acc: 0.8224\n",
            "Epoch 49/100\n",
            "--------------------\n",
            "train Loss 0.5177 Acc: 0.8186\n",
            "Epoch    49: reducing learning rate of group 0 to 1.0000e-04.\n",
            "validation Loss 0.5106 Acc: 0.8228\n",
            "Epoch 50/100\n",
            "--------------------\n",
            "train Loss 0.4891 Acc: 0.8271\n",
            "validation Loss 0.4746 Acc: 0.8364\n",
            "Epoch 51/100\n",
            "--------------------\n",
            "train Loss 0.4727 Acc: 0.8347\n",
            "validation Loss 0.4679 Acc: 0.8396\n",
            "Epoch 52/100\n",
            "--------------------\n",
            "train Loss 0.4704 Acc: 0.8357\n",
            "validation Loss 0.4648 Acc: 0.8402\n",
            "Epoch 53/100\n",
            "--------------------\n",
            "train Loss 0.4639 Acc: 0.8376\n",
            "validation Loss 0.4645 Acc: 0.8399\n",
            "Epoch 54/100\n",
            "--------------------\n",
            "train Loss 0.4571 Acc: 0.8389\n",
            "validation Loss 0.4613 Acc: 0.8419\n",
            "Epoch 55/100\n",
            "--------------------\n",
            "train Loss 0.4551 Acc: 0.8410\n",
            "validation Loss 0.4610 Acc: 0.8408\n",
            "Epoch 56/100\n",
            "--------------------\n",
            "train Loss 0.4558 Acc: 0.8411\n",
            "validation Loss 0.4584 Acc: 0.8416\n",
            "Epoch 57/100\n",
            "--------------------\n",
            "train Loss 0.4491 Acc: 0.8417\n",
            "validation Loss 0.4598 Acc: 0.8437\n",
            "Epoch 58/100\n",
            "--------------------\n",
            "train Loss 0.4501 Acc: 0.8411\n",
            "validation Loss 0.4552 Acc: 0.8439\n",
            "Epoch 59/100\n",
            "--------------------\n",
            "train Loss 0.4490 Acc: 0.8419\n",
            "validation Loss 0.4579 Acc: 0.8431\n",
            "Epoch 60/100\n",
            "--------------------\n",
            "train Loss 0.4465 Acc: 0.8428\n",
            "validation Loss 0.4527 Acc: 0.8455\n",
            "Epoch 61/100\n",
            "--------------------\n",
            "train Loss 0.4477 Acc: 0.8427\n",
            "validation Loss 0.4541 Acc: 0.8433\n",
            "Epoch 62/100\n",
            "--------------------\n",
            "train Loss 0.4356 Acc: 0.8475\n",
            "validation Loss 0.4541 Acc: 0.8454\n",
            "Epoch 63/100\n",
            "--------------------\n",
            "train Loss 0.4400 Acc: 0.8453\n",
            "validation Loss 0.4528 Acc: 0.8457\n",
            "Epoch 64/100\n",
            "--------------------\n",
            "train Loss 0.4392 Acc: 0.8452\n",
            "validation Loss 0.4534 Acc: 0.8474\n",
            "Epoch 65/100\n",
            "--------------------\n",
            "train Loss 0.4337 Acc: 0.8459\n",
            "validation Loss 0.4521 Acc: 0.8466\n",
            "Epoch 66/100\n",
            "--------------------\n",
            "train Loss 0.4414 Acc: 0.8458\n",
            "validation Loss 0.4521 Acc: 0.8471\n",
            "Epoch 67/100\n",
            "--------------------\n",
            "train Loss 0.4347 Acc: 0.8469\n",
            "validation Loss 0.4557 Acc: 0.8458\n",
            "Epoch 68/100\n",
            "--------------------\n",
            "train Loss 0.4332 Acc: 0.8484\n",
            "validation Loss 0.4526 Acc: 0.8473\n",
            "Epoch 69/100\n",
            "--------------------\n",
            "train Loss 0.4261 Acc: 0.8506\n",
            "validation Loss 0.4500 Acc: 0.8495\n",
            "Epoch 70/100\n",
            "--------------------\n",
            "train Loss 0.4284 Acc: 0.8485\n",
            "validation Loss 0.4489 Acc: 0.8478\n",
            "Epoch 71/100\n",
            "--------------------\n",
            "train Loss 0.4322 Acc: 0.8475\n",
            "validation Loss 0.4478 Acc: 0.8464\n",
            "Epoch 72/100\n",
            "--------------------\n",
            "train Loss 0.4281 Acc: 0.8496\n",
            "validation Loss 0.4464 Acc: 0.8467\n",
            "Epoch 73/100\n",
            "--------------------\n",
            "train Loss 0.4277 Acc: 0.8503\n",
            "validation Loss 0.4477 Acc: 0.8466\n",
            "Epoch 74/100\n",
            "--------------------\n",
            "train Loss 0.4291 Acc: 0.8483\n",
            "validation Loss 0.4507 Acc: 0.8482\n",
            "Epoch 75/100\n",
            "--------------------\n",
            "train Loss 0.4260 Acc: 0.8500\n",
            "validation Loss 0.4428 Acc: 0.8513\n",
            "Epoch 76/100\n",
            "--------------------\n",
            "train Loss 0.4253 Acc: 0.8502\n",
            "validation Loss 0.4462 Acc: 0.8500\n",
            "Epoch 77/100\n",
            "--------------------\n",
            "train Loss 0.4226 Acc: 0.8533\n",
            "validation Loss 0.4495 Acc: 0.8504\n",
            "Epoch 78/100\n",
            "--------------------\n",
            "train Loss 0.4237 Acc: 0.8507\n",
            "validation Loss 0.4469 Acc: 0.8483\n",
            "Epoch 79/100\n",
            "--------------------\n",
            "train Loss 0.4210 Acc: 0.8530\n",
            "validation Loss 0.4418 Acc: 0.8492\n",
            "Epoch 80/100\n",
            "--------------------\n",
            "train Loss 0.4221 Acc: 0.8521\n",
            "validation Loss 0.4466 Acc: 0.8479\n",
            "Epoch 81/100\n",
            "--------------------\n",
            "train Loss 0.4273 Acc: 0.8503\n",
            "Epoch    81: reducing learning rate of group 0 to 1.0000e-05.\n",
            "validation Loss 0.4489 Acc: 0.8491\n",
            "Epoch 82/100\n",
            "--------------------\n",
            "train Loss 0.4185 Acc: 0.8530\n",
            "validation Loss 0.4474 Acc: 0.8488\n",
            "Epoch 83/100\n",
            "--------------------\n",
            "train Loss 0.4211 Acc: 0.8516\n",
            "validation Loss 0.4458 Acc: 0.8495\n",
            "Epoch 84/100\n",
            "--------------------\n",
            "train Loss 0.4184 Acc: 0.8526\n",
            "validation Loss 0.4444 Acc: 0.8508\n",
            "Epoch 85/100\n",
            "--------------------\n",
            "train Loss 0.4169 Acc: 0.8534\n",
            "validation Loss 0.4445 Acc: 0.8504\n",
            "Epoch 86/100\n",
            "--------------------\n",
            "train Loss 0.4185 Acc: 0.8521\n",
            "validation Loss 0.4426 Acc: 0.8503\n",
            "Epoch 87/100\n",
            "--------------------\n",
            "train Loss 0.4158 Acc: 0.8531\n",
            "Epoch    87: reducing learning rate of group 0 to 1.0000e-06.\n",
            "validation Loss 0.4432 Acc: 0.8502\n",
            "Epoch 88/100\n",
            "--------------------\n",
            "train Loss 0.4195 Acc: 0.8532\n",
            "validation Loss 0.4445 Acc: 0.8504\n",
            "Epoch 89/100\n",
            "--------------------\n",
            "train Loss 0.4182 Acc: 0.8542\n",
            "validation Loss 0.4454 Acc: 0.8501\n",
            "Epoch 90/100\n",
            "--------------------\n",
            "train Loss 0.4157 Acc: 0.8535\n",
            "validation Loss 0.4460 Acc: 0.8509\n",
            "Epoch 91/100\n",
            "--------------------\n",
            "train Loss 0.4146 Acc: 0.8541\n",
            "validation Loss 0.4445 Acc: 0.8507\n",
            "Epoch 92/100\n",
            "--------------------\n",
            "train Loss 0.4133 Acc: 0.8546\n",
            "validation Loss 0.4448 Acc: 0.8499\n",
            "Epoch 93/100\n",
            "--------------------\n",
            "train Loss 0.4182 Acc: 0.8524\n",
            "Epoch    93: reducing learning rate of group 0 to 1.0000e-07.\n",
            "validation Loss 0.4429 Acc: 0.8507\n",
            "Epoch 94/100\n",
            "--------------------\n",
            "train Loss 0.4165 Acc: 0.8529\n",
            "validation Loss 0.4457 Acc: 0.8505\n",
            "Epoch 95/100\n",
            "--------------------\n",
            "train Loss 0.4144 Acc: 0.8549\n",
            "validation Loss 0.4452 Acc: 0.8497\n",
            "Epoch 96/100\n",
            "--------------------\n",
            "train Loss 0.4156 Acc: 0.8538\n",
            "validation Loss 0.4447 Acc: 0.8504\n",
            "Epoch 97/100\n",
            "--------------------\n",
            "train Loss 0.4148 Acc: 0.8536\n",
            "validation Loss 0.4460 Acc: 0.8501\n",
            "Epoch 98/100\n",
            "--------------------\n",
            "train Loss 0.4157 Acc: 0.8555\n",
            "validation Loss 0.4438 Acc: 0.8496\n",
            "Epoch 99/100\n",
            "--------------------\n",
            "train Loss 0.4175 Acc: 0.8520\n",
            "Epoch    99: reducing learning rate of group 0 to 1.0000e-08.\n",
            "validation Loss 0.4454 Acc: 0.8496\n",
            "Training complete in 23m 42s\n",
            "Best validation accuracy 0.8513\n",
            "CPU times: user 20min, sys: 3min 27s, total: 23min 28s\n",
            "Wall time: 23min 41s\n"
          ],
          "name": "stdout"
        },
        {
          "output_type": "display_data",
          "data": {
            "image/png": "[encoded data removed]",
            "text/plain": [
              "<Figure size 432x288 with 2 Axes>"
            ]
          },
          "metadata": {
            "tags": []
          }
        }
      ]
    },
    {
      "cell_type": "code",
      "metadata": {
        "id": "jaQy70yWtiqo",
        "colab_type": "code",
        "colab": {}
      },
      "source": [
        ""
      ],
      "execution_count": 0,
      "outputs": []
    }
  ]
}